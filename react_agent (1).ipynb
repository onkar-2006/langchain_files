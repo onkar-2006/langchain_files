{
  "nbformat": 4,
  "nbformat_minor": 0,
  "metadata": {
    "colab": {
      "provenance": []
    },
    "kernelspec": {
      "name": "python3",
      "display_name": "Python 3"
    },
    "language_info": {
      "name": "python"
    }
  },
  "cells": [
    {
      "cell_type": "code",
      "execution_count": null,
      "metadata": {
        "id": "xtqK3f2Ts0bo"
      },
      "outputs": [],
      "source": [
        "!pip install langgraph\n",
        "!pip install langchain\n",
        "!pip install langchain_groq"
      ]
    },
    {
      "cell_type": "code",
      "source": [
        "from langchain_groq import ChatGroq\n",
        "from langgraph.graph import StateGraph\n",
        "from langgraph.prebuilt import create_react_agent\n",
        "import os\n",
        "from typing_extensions import TypedDict\n",
        "from langchain.tools import Tool\n",
        "from typing import List\n",
        "from langchain_core.messages import HumanMessage\n",
        "from langchain_core.messages import BaseMessage\n",
        "from langgraph.graph.message import add_messages\n",
        "from langgraph.graph import START ,END"
      ],
      "metadata": {
        "id": "XdUwkL8StMbR"
      },
      "execution_count": 15,
      "outputs": []
    },
    {
      "cell_type": "code",
      "source": [],
      "metadata": {
        "id": "jeKjiAOpt-qH"
      },
      "execution_count": 4,
      "outputs": []
    },
    {
      "cell_type": "code",
      "source": [
        "class AgentState(TypedDict):\n",
        "  messages:List[HumanMessage]\n",
        "\n",
        "llm=ChatGroq(model_name=\"llama-3.1-8b-instant\" , api_key=GROQ_API_KEY)\n",
        "\n",
        "\n",
        "def react_agent(state:AgentState) -> AgentState:\n",
        "  responce=llm.invoke(state['messages'])\n",
        "  print(f\"AI responce: {responce.content}\")\n",
        "  return state\n",
        "\n",
        "\n",
        "graph=StateGraph(AgentState)\n",
        "graph.add_node(\"agent\" , react_agent)\n",
        "graph.add_edge(START , 'agent')\n",
        "graph.add_edge('agent', END)\n",
        "\n",
        "agent=graph.compile()"
      ],
      "metadata": {
        "id": "DGV1TzgzwG5F"
      },
      "execution_count": 19,
      "outputs": []
    },
    {
      "cell_type": "code",
      "source": [
        "agent.invoke({\"messages\":\"can u tell me about the america\"})"
      ],
      "metadata": {
        "colab": {
          "base_uri": "https://localhost:8080/"
        },
        "id": "PyJITSe1yIP0",
        "outputId": "99721990-620f-409c-9f5a-5b4e288cc7d3"
      },
      "execution_count": 20,
      "outputs": [
        {
          "output_type": "stream",
          "name": "stdout",
          "text": [
            "AI responce: The United States of America (USA) is a federal republic composed of 50 states, a federal district, and various territories. The country is known for its diverse geography, vibrant culture, and significant contributions to global politics, economy, and science. Here's a brief overview:\n",
            "\n",
            "**Geography and Climate:**\n",
            "\n",
            "- The USA is the 4th largest country by land area, covering approximately 9.8 million square kilometers.\n",
            "- It borders Canada to the north and Mexico to the south.\n",
            "- The country has diverse geography, including mountains (Rocky Mountains), deserts (Mojave and Sonoran), forests, and coastlines along the Atlantic, Pacific, and Gulf of Mexico.\n",
            "- The climate varies from tropical to polar, with regions experiencing hot and dry conditions, cold and snowy, and temperate with moderate temperatures.\n",
            "\n",
            "**History:**\n",
            "\n",
            "- The USA declared independence from Great Britain in 1776 and became a sovereign nation.\n",
            "- The country expanded through the Louisiana Purchase (1803), Mexican-American War (1846-1848), and the annexation of Hawaii (1898).\n",
            "- The USA played a significant role in both World War I (1917-1918) and World War II (1941-1945).\n",
            "- The Civil Rights Movement (1950s-1960s) aimed to end racial segregation and promote equality for African Americans.\n",
            "- The USA has been involved in various international conflicts and economic crises, including the Cold War, the War on Terror, and the 2008 financial crisis.\n",
            "\n",
            "**Government and Politics:**\n",
            "\n",
            "- The USA has a federal system of government, with a president serving as the head of state and government.\n",
            "- The federal government is divided into three branches: the executive (led by the president), legislative (Congress), and judicial (Supreme Court).\n",
            "- The president is directly elected by the people through the Electoral College.\n",
            "- States have a significant degree of autonomy, with their own governments and powers.\n",
            "\n",
            "**Economy:**\n",
            "\n",
            "- The USA has a mixed economy, with a diverse range of industries, including finance, technology, manufacturing, and agriculture.\n",
            "- The country is a leading exporter of goods and services, with major trading partners including China, Canada, and Mexico.\n",
            "- The US dollar is the global reserve currency, widely used in international transactions.\n",
            "- The country has a high standard of living, with a strong GDP per capita and a high level of economic freedom.\n",
            "\n",
            "**Culture:**\n",
            "\n",
            "- The USA is known for its diverse cultural heritage, with influences from European, African, Asian, and Indigenous American traditions.\n",
            "- The country has a rich music scene, with genres like jazz, blues, rock, and hip-hop.\n",
            "- American literature, film, and art are renowned worldwide, with notable authors, actors, and artists like Mark Twain, John Wayne, and Jackson Pollock.\n",
            "- Sports are an integral part of American culture, with popular leagues like the NFL, NBA, MLB, and NHL.\n",
            "\n",
            "**Demographics:**\n",
            "\n",
            "- The USA has a population of over 331 million people, with a diverse mix of ethnicities and languages.\n",
            "- The country has a high level of immigration, with millions of people from around the world moving to the USA each year.\n",
            "- The American population is projected to become increasingly diverse, with growing Hispanic, Asian, and African-American populations.\n",
            "\n",
            "**Education and Research:**\n",
            "\n",
            "- The USA is home to many of the world's top universities, including Harvard, Stanford, and MIT.\n",
            "- American research institutions have made significant contributions to science, technology, and medicine, including breakthroughs in computing, genetics, and space exploration.\n",
            "\n",
            "This is just a brief overview, but I hope it gives you a sense of the complexity and diversity of the United States of America! Is there anything specific you'd like to know more about?\n"
          ]
        },
        {
          "output_type": "execute_result",
          "data": {
            "text/plain": [
              "{'messages': 'can u tell me about the america'}"
            ]
          },
          "metadata": {},
          "execution_count": 20
        }
      ]
    },
    {
      "cell_type": "code",
      "source": [
        "from typing import Annotated , List ,TypedDict\n",
        "from langgraph.graph import START, StateGraph ,END\n",
        "from langgraph.graph.message import add_messages\n",
        "from langchain_core.tools import tool\n",
        "from langchain_core.messages import HumanMessage\n",
        "from langgraph.prebuilt import ToolNode\n",
        "from langchain_core.messages import BaseMessage\n",
        "from langchain_core.messages import ToolMessage\n",
        "from langgraph.prebuilt import create_react_agent\n",
        "from langchain_core.messages import SystemMessage\n",
        "from langgraph.prebuilt import tool_node\n"
      ],
      "metadata": {
        "id": "OFHDJ4kbyc5H"
      },
      "execution_count": 28,
      "outputs": []
    },
    {
      "cell_type": "code",
      "source": [
        "from collections.abc import Sequence\n",
        "class AgentState(TypedDict):\n",
        "  messages:Annotated[Sequence[BaseMessage] , add_messages]\n",
        "\n",
        "@tool\n",
        "def add_num(a:int , b:int):\n",
        "  \"\"\"this function return the sum  of the two num\"\"\"\n",
        "  return a+b\n",
        "\n",
        "@tool\n",
        "def sub_num(a:int , b:int):\n",
        "  \"\"\"this num return the substraction of the two num\"\"\"\n",
        "  return a-b\n",
        "\n",
        "@tool\n",
        "def multiply(a: int, b: int):\n",
        "    \"\"\"Multiplication function\"\"\"\n",
        "    return a * b\n",
        "tools=[add_num ,sub_num ,multiply]\n",
        "\n",
        "llm_with_tools=llm.bind_tools(tools)\n"
      ],
      "metadata": {
        "id": "60rR-J8z0Gud"
      },
      "execution_count": 25,
      "outputs": []
    },
    {
      "cell_type": "code",
      "source": [
        "def llm_model(state:AgentState) -> AgentState:\n",
        "  system_prompt=SystemMessage(content=\"your name is sara u are the buisneess assistant  think and give the answer from them and also used the appropriate tool if needed\")\n",
        "  responce=llm_with_tools.invoke([system_prompt] + state['messages'])\n",
        "  return {\"messages\":[responce]}\n",
        "\n",
        "def should_continue(state:AgentState):\n",
        "  messages:state['messages']\n",
        "  last_messages=messages[-1]\n",
        "  if not last_messages.tool_calls:\n",
        "    return \"end\"\n",
        "  else:\n",
        "    return \"continue\"\n"
      ],
      "metadata": {
        "id": "nXTgTz2f2y7b"
      },
      "execution_count": 27,
      "outputs": []
    },
    {
      "cell_type": "code",
      "source": [
        "graph= StateGraph(AgentState)\n",
        "graph.add_node(\"our_model\" ,llm_model)\n",
        "\n",
        "tool_node=ToolNode(tools=tools)\n",
        "graph.add_node(\"tools\" ,tool_node)\n",
        "graph.set_entry_point(\"our_model\")\n",
        "\n",
        "graph.add_conditional_edges(\n",
        "    \"our_model\",\n",
        "    should_continue,\n",
        "    {\n",
        "        \"continue\":\"tools\",\n",
        "        \"end\":END\n",
        "\n",
        "    }\n",
        ")\n",
        "\n",
        "graph.add_edge(\"tools\",\"our_model\")\n",
        "\n",
        "app=graph.compile()"
      ],
      "metadata": {
        "id": "eH9D9YjL4joy"
      },
      "execution_count": 32,
      "outputs": []
    },
    {
      "cell_type": "code",
      "source": [
        "from IPython.display import Image, display\n",
        "display(Image(app.get_graph().draw_mermaid_png()))"
      ],
      "metadata": {
        "colab": {
          "base_uri": "https://localhost:8080/",
          "height": 290
        },
        "id": "LoclQ0975t9r",
        "outputId": "2e521c4f-ce29-40c6-ee7f-53e15fa30ce6"
      },
      "execution_count": 33,
      "outputs": [
        {
          "output_type": "display_data",
          "data": {
            "image/png": "[encoded data removed]",
            "text/plain": [
              "<IPython.core.display.Image object>"
            ]
          },
          "metadata": {}
        }
      ]
    },
    {
      "cell_type": "code",
      "source": [
        "react_agent=create_react_agent(\n",
        "    llm,\n",
        "    tools=tools,\n",
        "    prompt=\"first start with the welcome message Hi i am sara ur helping assistant u are the helping assistant give the answer of the question and sue yhe tool\",\n",
        ")"
      ],
      "metadata": {
        "id": "jdJg-33U7rbl"
      },
      "execution_count": 43,
      "outputs": []
    },
    {
      "cell_type": "code",
      "source": [
        "responce=react_agent.invoke({\"messages\":\"who are u\"})"
      ],
      "metadata": {
        "id": "_9CgYxvY-pOe"
      },
      "execution_count": 44,
      "outputs": []
    },
    {
      "cell_type": "code",
      "source": [
        "print(responce)"
      ],
      "metadata": {
        "colab": {
          "base_uri": "https://localhost:8080/"
        },
        "id": "I5oW0wWi-2xs",
        "outputId": "86ae7765-a044-4148-d610-0becddec56ff"
      },
      "execution_count": 45,
      "outputs": [
        {
          "output_type": "stream",
          "name": "stdout",
          "text": [
            "{'messages': [HumanMessage(content='who are u', additional_kwargs={}, response_metadata={}, id='ee1812b4-14bf-4bf4-b793-6abc9cf4489f'), AIMessage(content='I am an artificial intelligence model known as Llama. Llama stands for \"Large Language Model Meta AI.\"', additional_kwargs={}, response_metadata={'token_usage': {'completion_tokens': 23, 'prompt_tokens': 379, 'total_tokens': 402, 'completion_time': 0.059512379, 'prompt_time': 0.119889453, 'queue_time': 0.050116348, 'total_time': 0.179401832}, 'model_name': 'llama-3.1-8b-instant', 'system_fingerprint': 'fp_2a85b31419', 'service_tier': 'on_demand', 'finish_reason': 'stop', 'logprobs': None}, id='run--29f87f7e-ead9-47e7-916a-9a2a297e45b7-0', usage_metadata={'input_tokens': 379, 'output_tokens': 23, 'total_tokens': 402})]}\n"
          ]
        }
      ]
    },
    {
      "cell_type": "code",
      "source": [
        "import operator\n",
        "from typing import Annotated, TypedDict\n",
        "\n",
        "from langchain_core.messages import BaseMessage, HumanMessage\n",
        "from langgraph.graph import StateGraph, START, END\n",
        "from langgraph.prebuilt import create_react_agent\n",
        "from langgraph.checkpoint.memory import InMemorySaver # For memory\n",
        "from langgraph.prebuilt.tool_node import ToolNode # Import ToolNode\n",
        "\n",
        "# 1. Define custom tools (optional, but a common use case)\n",
        "@tool\n",
        "def send_email(email_address: str, email_content: str) -> str:\n",
        "    \"\"\"Sends an email to a specified recipient with the given content.\"\"\"\n",
        "    # In a real-world scenario, this would integrate with an email service\n",
        "    print(f\"Sending email to {email_address} with content: {email_content}\")\n",
        "    return f\"Email successfully sent to {email_address}\"\n",
        "\n",
        "# 2. Define the agent's state\n",
        "# The state will primarily track the message history\n",
        "class AgentState(TypedDict):\n",
        "    messages: Annotated[list[BaseMessage], operator.add]\n",
        "\n",
        "# 3. Create the prebuilt ReAct agent\n",
        "# Requires an LLM and a list of tools\n",
        "tools = [send_email]\n",
        "\n",
        "# Create the agent with an optional checkpointer for memory\n",
        "checkpointer = InMemorySaver()\n",
        "react_agent = create_react_agent(llm, tools, checkpointer=checkpointer)\n",
        "\n",
        "# 4. Integrate the ReAct agent into a larger graph (if needed)\n",
        "\n",
        "#  Define a custom node to encapsulate the ReAct agent\n",
        "def react_agent_node(state: AgentState):\n",
        "    return react_agent.invoke({\"messages\": state[\"messages\"]})\n",
        "\n",
        "# Build the graph\n",
        "workflow = StateGraph(AgentState)\n",
        "\n",
        "# Add the ReAct agent as a node in the graph\n",
        "workflow.add_node(\"react_agent\", react_agent_node)\n",
        "\n",
        "# Set the entry point of the graph to the ReAct agent\n",
        "workflow.set_entry_point(\"react_agent\")\n",
        "\n",
        "# Define conditional edges: if the ReAct agent performs tool calls, route to tools_condition\n",
        "# Otherwise, it's the final response, so route to END\n",
        "workflow.add_conditional_edges(\n",
        "    \"react_agent\",\n",
        "    # tools_condition is a prebuilt LangGraph function that checks for tool calls\n",
        "    lambda x: \"tools\" if x[\"messages\"][-1].tool_calls else END,\n",
        "    {\"tools\": \"tools\", END: END}, # Route to the \"tools\" node or END\n",
        ")\n",
        "\n",
        "# Add a ToolNode to handle tool calls\n",
        "workflow.add_node(\"tools\", ToolNode(tools)) # ToolNode is also prebuilt in LangGraph\n",
        "workflow.add_edge(\"tools\", \"react_agent\") # After tool execution, return to the agent\n",
        "\n",
        "# Compile the graph\n",
        "app = workflow.compile()\n",
        "\n",
        "# Example usage with memory\n",
        "config = {\"configurable\": {\"thread_id\": \"conversation_1\"}}\n",
        "response = app.invoke(\n",
        "    {\"messages\": [HumanMessage(content=\"Send an email to jane.doe@example.com with the subject 'Meeting Reminder' and the content 'Please remember our meeting tomorrow at 10 AM)\")]},\n",
        "    config=config\n",
        ")\n",
        "\n",
        "print(response[\"messages\"][-1].content)\n",
        "\n"
      ],
      "metadata": {
        "colab": {
          "base_uri": "https://localhost:8080/"
        },
        "id": "F5FQ-7NO_h3v",
        "outputId": "042404d3-4df8-409c-ef3e-60843788f1f8"
      },
      "execution_count": 54,
      "outputs": [
        {
          "output_type": "stream",
          "name": "stdout",
          "text": [
            "Sending email to jane.doe@example.com with content: Please remember our meeting tomorrow at 10 AM)\n",
            "However, the subject of the email is currently missing. To include it in the email content, you would need to modify the function call. Unfortunately, the documentation for 'send_email' doesn't provide information on sending the subject separately.\n"
          ]
        }
      ]
    },
    {
      "cell_type": "code",
      "source": [
        "from IPython.display import Image, display\n",
        "display(Image(app.get_graph().draw_mermaid_png()))"
      ],
      "metadata": {
        "colab": {
          "base_uri": "https://localhost:8080/",
          "height": 266
        },
        "id": "ChkopHjuA4FA",
        "outputId": "9f7436e3-787e-4ea2-faf6-b5bb42ad16e7"
      },
      "execution_count": 55,
      "outputs": [
        {
          "output_type": "display_data",
          "data": {
            "image/png": "[encoded data removed]",
            "text/plain": [
              "<IPython.core.display.Image object>"
            ]
          },
          "metadata": {}
        }
      ]
    }
  ]
}